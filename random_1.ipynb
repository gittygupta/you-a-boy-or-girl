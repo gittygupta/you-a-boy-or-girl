{
 "cells": [
  {
   "cell_type": "markdown",
   "metadata": {},
   "source": [
    "# Cleaning the data.\n",
    "To-dos\n",
    "1) Do the cleanup - DONE\n",
    "2) Remove single letters in the questions - DONE\n",
    "3) Shuffle the rows - DONE"
   ]
  },
  {
   "cell_type": "code",
   "execution_count": 1,
   "metadata": {},
   "outputs": [],
   "source": [
    "import pandas as pd\n",
    "# Scientific and vector computation for python\n",
    "import numpy as np\n",
    "\n",
    "# Import regular expressions to process emails\n",
    "import re\n",
    "\n",
    "# Plotting library\n",
    "from matplotlib import pyplot\n",
    "\n",
    "# Optimization module in scipy\n",
    "from scipy import optimize\n",
    "\n",
    "# Import WordNetLemmatizer\n",
    "from nltk.stem import WordNetLemmatizer \n",
    "from nltk.tokenize import word_tokenize \n",
    "wl = WordNetLemmatizer()"
   ]
  },
  {
   "cell_type": "code",
   "execution_count": null,
   "metadata": {},
   "outputs": [],
   "source": [
    "data = pd.read_csv('data_main.tsv', delimiter = '\\t')"
   ]
  },
  {
   "cell_type": "code",
   "execution_count": null,
   "metadata": {},
   "outputs": [],
   "source": [
    "X, y = data['Questions'], data['Male']"
   ]
  },
  {
   "cell_type": "code",
   "execution_count": null,
   "metadata": {},
   "outputs": [],
   "source": [
    "for i in range(len(X)):\n",
    "    X[i] = X[i].lower() # Change everything to lowercase\n",
    "    X[i] = re.compile('<[^<>]+>').sub(' ', X[i]) # Strip all HTML\n",
    "    X[i] = re.compile('[0-9]+').sub(' number ', X[i]) # Handle numbers\n",
    "    X[i] = re.compile('(http|https)://[^\\s]*').sub(' httpaddr ', X[i]) # Handle URLs\n",
    "    X[i] = re.compile('[^\\s]+@[^\\s]+').sub(' emailaddr ', X[i]) # Handle emails\n",
    "    X[i] = re.compile('[$]+').sub(' dollar ', X[i]) # Handle $ \n",
    "    X[i] = re.split('[ @$/#.-:&*+=\\[\\]?!(){},''\">_<;%\\n\\r]', X[i]) # Remove punctuations\n",
    "    #X[i] = [word for word in X[i] if len(word) > 0] # Remove any empty word string\n",
    "    X[i] = ' '.join(word for word in X[i])\n",
    "    words = word_tokenize(X[i])\n",
    "    index = 0\n",
    "    while index < len(words):\n",
    "        \n",
    "        # Removes any remaining non alphanumeric characters in a word\n",
    "        words[index] = re.compile('[^a-zA-Z0-9]').sub('', words[index]).strip()\n",
    "        \n",
    "        words[index] = wl.lemmatize(words[index])\n",
    "        index += 1\n",
    "        \n",
    "    X[i] = ' '.join(word for word in words)\n",
    "    "
   ]
  },
  {
   "cell_type": "code",
   "execution_count": null,
   "metadata": {},
   "outputs": [],
   "source": [
    "data['Questions'] = X"
   ]
  },
  {
   "cell_type": "code",
   "execution_count": null,
   "metadata": {},
   "outputs": [],
   "source": [
    "data.to_csv('data_final.csv', index = False)"
   ]
  },
  {
   "cell_type": "markdown",
   "metadata": {},
   "source": [
    "DONE until here! Check the to-dos"
   ]
  },
  {
   "cell_type": "code",
   "execution_count": 2,
   "metadata": {},
   "outputs": [],
   "source": [
    "from sklearn.feature_extraction.text import CountVectorizer\n",
    "from random import shuffle"
   ]
  },
  {
   "cell_type": "code",
   "execution_count": 3,
   "metadata": {},
   "outputs": [],
   "source": [
    "with open('data_final.csv','r') as ip:\n",
    "    data=ip.readlines()\n",
    "header, rest = data[0], data[1:]\n",
    "shuffle(rest)\n",
    "with open('output.csv','w') as out:\n",
    "    out.write(''.join([header]+rest))"
   ]
  },
  {
   "cell_type": "code",
   "execution_count": 3,
   "metadata": {},
   "outputs": [],
   "source": [
    "data = pd.read_csv('output.csv', delimiter = ',')\n",
    "X, y = data['Questions'], data['Male']"
   ]
  },
  {
   "cell_type": "code",
   "execution_count": null,
   "metadata": {},
   "outputs": [],
   "source": [
    "for i in range(len(X)):\n",
    "    words = word_tokenize(X[i])\n",
    "    index = 0\n",
    "    while index < len(words):\n",
    "        if len(words[index]) == 1:\n",
    "            words.remove(words[index])\n",
    "        index += 1\n",
    "    X[i] = ' '.join(word for word in words)"
   ]
  },
  {
   "cell_type": "code",
   "execution_count": 5,
   "metadata": {},
   "outputs": [],
   "source": [
    "data['Questions'] = X"
   ]
  },
  {
   "cell_type": "code",
   "execution_count": null,
   "metadata": {},
   "outputs": [],
   "source": [
    "print(data)"
   ]
  },
  {
   "cell_type": "code",
   "execution_count": 7,
   "metadata": {},
   "outputs": [],
   "source": [
    "data.to_csv('output_2.csv', index = False)"
   ]
  },
  {
   "cell_type": "markdown",
   "metadata": {},
   "source": [
    "DONE unti here!"
   ]
  },
  {
   "cell_type": "code",
   "execution_count": null,
   "metadata": {},
   "outputs": [],
   "source": []
  }
 ],
 "metadata": {
  "kernelspec": {
   "display_name": "Python 3",
   "language": "python",
   "name": "python3"
  },
  "language_info": {
   "codemirror_mode": {
    "name": "ipython",
    "version": 3
   },
   "file_extension": ".py",
   "mimetype": "text/x-python",
   "name": "python",
   "nbconvert_exporter": "python",
   "pygments_lexer": "ipython3",
   "version": "3.7.3"
  }
 },
 "nbformat": 4,
 "nbformat_minor": 2
}
